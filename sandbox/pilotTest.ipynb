{
 "cells": [
  {
   "cell_type": "code",
   "execution_count": 35,
   "metadata": {},
   "outputs": [],
   "source": [
    "from ezc3d import c3d\n",
    "\n"
   ]
  },
  {
   "cell_type": "code",
   "execution_count": null,
   "metadata": {},
   "outputs": [],
   "source": [
    "file = r\"C:\\Users\\anna\\Documents\\gitHub\\NTU\\InterpolationModel\\data\\c3d\\SN268\\SN268_0004_grasp_R01.c3d\"\n",
    "c = c3d(file)"
   ]
  },
  {
   "cell_type": "code",
   "execution_count": 57,
   "metadata": {},
   "outputs": [],
   "source": [
    "name_list_of_markers = c[\"parameters\"][\"POINT\"][\"DESCRIPTIONS\"][\"value\"]"
   ]
  },
  {
   "cell_type": "code",
   "execution_count": 58,
   "metadata": {},
   "outputs": [
    {
     "data": {
      "text/plain": [
       "['RUA1',\n",
       " 'RUA2',\n",
       " 'RUA3',\n",
       " 'RUA4',\n",
       " 'RHLE',\n",
       " 'RHME',\n",
       " 'RTEMP',\n",
       " 'RHEAD',\n",
       " 'LHEAD',\n",
       " 'LTEMP',\n",
       " 'STER',\n",
       " 'XPRO',\n",
       " 'C7',\n",
       " 'T4',\n",
       " 'T8',\n",
       " 'T10',\n",
       " 'LPSIS',\n",
       " 'RPSIS',\n",
       " 'LICR',\n",
       " 'RICR',\n",
       " 'LASIS',\n",
       " 'RASIS',\n",
       " 'LUA1',\n",
       " 'LUA2',\n",
       " 'LUA3',\n",
       " 'LUA4',\n",
       " 'LHLE',\n",
       " 'LHME',\n",
       " 'LFA1',\n",
       " 'LFA2',\n",
       " 'LFA3',\n",
       " 'LRSP',\n",
       " 'LUSP',\n",
       " 'LCAP',\n",
       " 'LHMC1',\n",
       " 'LHMC2',\n",
       " 'LHMC3',\n",
       " 'RFA1',\n",
       " 'RFA2',\n",
       " 'RFA3',\n",
       " 'RRSP',\n",
       " 'RUSP',\n",
       " 'RCAP',\n",
       " 'RHMC1',\n",
       " 'RHMC2',\n",
       " 'RHMC3',\n",
       " 'RACR',\n",
       " 'LACR',\n",
       " 'LTHUMB',\n",
       " 'LMIDDLE',\n",
       " 'RTHUMB',\n",
       " 'RMIDDLE',\n",
       " 'TAB1',\n",
       " 'TAB2',\n",
       " 'TAB3',\n",
       " 'TAB4',\n",
       " 'CHAIR1',\n",
       " 'CHAIR2',\n",
       " 'CHAIR3',\n",
       " 'CHAIR4',\n",
       " 'BLOCK',\n",
       " 'SHELF1',\n",
       " 'SHELF2',\n",
       " 'SHELF3',\n",
       " 'SHELF4']"
      ]
     },
     "execution_count": 58,
     "metadata": {},
     "output_type": "execute_result"
    }
   ],
   "source": [
    "name_list_of_markers"
   ]
  },
  {
   "cell_type": "code",
   "execution_count": 60,
   "metadata": {},
   "outputs": [],
   "source": [
    "coordinates_of_markers = c[\"data\"][\"points\"][0:2,:,:]"
   ]
  },
  {
   "cell_type": "code",
   "execution_count": null,
   "metadata": {},
   "outputs": [],
   "source": []
  }
 ],
 "metadata": {
  "kernelspec": {
   "display_name": "preDataCleaning",
   "language": "python",
   "name": "python3"
  },
  "language_info": {
   "codemirror_mode": {
    "name": "ipython",
    "version": 3
   },
   "file_extension": ".py",
   "mimetype": "text/x-python",
   "name": "python",
   "nbconvert_exporter": "python",
   "pygments_lexer": "ipython3",
   "version": "3.7.13"
  },
  "orig_nbformat": 4
 },
 "nbformat": 4,
 "nbformat_minor": 2
}
