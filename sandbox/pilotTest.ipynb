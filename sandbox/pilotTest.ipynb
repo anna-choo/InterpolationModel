{
 "cells": [
  {
   "cell_type": "code",
   "execution_count": 22,
   "metadata": {},
   "outputs": [],
   "source": [
    "from ezc3d import c3d\n",
    "\n"
   ]
  },
  {
   "cell_type": "code",
   "execution_count": 23,
   "metadata": {},
   "outputs": [],
   "source": [
    "# file = r\"C:\\Users\\anna\\Documents\\gitHub\\NTU\\InterpolationModel\\data\\c3d\\SN268\\SN268_0004_grasp_R01.c3d\"\n",
    "file = r\"C:\\Users\\Administrator\\Documents\\gitHub\\NTU\\InterpolationModel\\data\\SN268\\SN268_0004_grasp_R01.c3d\"\n",
    "\n",
    "c = c3d(file)"
   ]
  },
  {
   "cell_type": "code",
   "execution_count": 24,
   "metadata": {},
   "outputs": [],
   "source": [
    "name_of_markers = c[\"parameters\"][\"POINT\"][\"DESCRIPTIONS\"][\"value\"]"
   ]
  },
  {
   "cell_type": "code",
   "execution_count": 25,
   "metadata": {},
   "outputs": [
    {
     "data": {
      "text/plain": [
       "['RUA1',\n",
       " 'RUA2',\n",
       " 'RUA3',\n",
       " 'RUA4',\n",
       " 'RHLE',\n",
       " 'RHME',\n",
       " 'RTEMP',\n",
       " 'RHEAD',\n",
       " 'LHEAD',\n",
       " 'LTEMP',\n",
       " 'STER',\n",
       " 'XPRO',\n",
       " 'C7',\n",
       " 'T4',\n",
       " 'T8',\n",
       " 'T10',\n",
       " 'LPSIS',\n",
       " 'RPSIS',\n",
       " 'LICR',\n",
       " 'RICR',\n",
       " 'LASIS',\n",
       " 'RASIS',\n",
       " 'LUA1',\n",
       " 'LUA2',\n",
       " 'LUA3',\n",
       " 'LUA4',\n",
       " 'LHLE',\n",
       " 'LHME',\n",
       " 'LFA1',\n",
       " 'LFA2',\n",
       " 'LFA3',\n",
       " 'LRSP',\n",
       " 'LUSP',\n",
       " 'LCAP',\n",
       " 'LHMC1',\n",
       " 'LHMC2',\n",
       " 'LHMC3',\n",
       " 'RFA1',\n",
       " 'RFA2',\n",
       " 'RFA3',\n",
       " 'RRSP',\n",
       " 'RUSP',\n",
       " 'RCAP',\n",
       " 'RHMC1',\n",
       " 'RHMC2',\n",
       " 'RHMC3',\n",
       " 'RACR',\n",
       " 'LACR',\n",
       " 'LTHUMB',\n",
       " 'LMIDDLE',\n",
       " 'RTHUMB',\n",
       " 'RMIDDLE',\n",
       " 'TAB1',\n",
       " 'TAB2',\n",
       " 'TAB3',\n",
       " 'TAB4',\n",
       " 'CHAIR1',\n",
       " 'CHAIR2',\n",
       " 'CHAIR3',\n",
       " 'CHAIR4',\n",
       " 'BLOCK',\n",
       " 'SHELF1',\n",
       " 'SHELF2',\n",
       " 'SHELF3',\n",
       " 'SHELF4']"
      ]
     },
     "execution_count": 25,
     "metadata": {},
     "output_type": "execute_result"
    }
   ],
   "source": [
    "name_of_markers"
   ]
  },
  {
   "cell_type": "code",
   "execution_count": 26,
   "metadata": {},
   "outputs": [],
   "source": [
    "coordinates_of_markers = c[\"data\"][\"points\"][0:3,:,:]"
   ]
  },
  {
   "cell_type": "code",
   "execution_count": 27,
   "metadata": {},
   "outputs": [],
   "source": [
    "markers_grouping = markers_dict = {\n",
    "    'R_head':[\n",
    "        'RHEAD',\n",
    "        'RTEMP'],\n",
    "\n",
    "    'L_head':[\n",
    "        'LHEAD',\n",
    "        'LTEMP'],\n",
    "\n",
    "    'R_shoulder':[\n",
    "        'RACR'],\n",
    "\n",
    "    'L_shoulder':[\n",
    "        'LACR'],\n",
    "\n",
    "    'torso':[\n",
    "        'STER',\n",
    "        'XPRO',\n",
    "        'C7',\n",
    "        'T4',\n",
    "        'T8',\n",
    "        'T10'],\n",
    "    \n",
    "\n",
    "    'pelvis':[\n",
    "        'LPSIS',\n",
    "        'RPSIS',\n",
    "        'RASIS',\n",
    "        'LASIS',\n",
    "        'LICR',\n",
    "        'RICR'],\n",
    "\n",
    "    'R_arms':[    \n",
    "        'RHME',\n",
    "        'RHLE',\n",
    "        'RUA1',\n",
    "        'RUA2',\n",
    "        'RUA3',\n",
    "        'RUA4'],\n",
    "    \n",
    "    'L_arms':[\n",
    "        'LHME',\n",
    "        'LHLE',\n",
    "        'LUA1',\n",
    "        'LUA2',\n",
    "        'LUA3',\n",
    "        'LUA4'],\n",
    "\n",
    "    'R_wrist':[\n",
    "        'RRSP',\n",
    "        'RUSP',\n",
    "        'RFA3',\n",
    "        'RFA2',\n",
    "        'RFA1'],\n",
    "\n",
    "    'L_wrist':[\n",
    "        'LFA1',\n",
    "        'LFA2',\n",
    "        'LFA3',\n",
    "        'LRSP',\n",
    "        'LUSP'],\n",
    "\n",
    "    'R_hand':[\n",
    "        'RCAP',\n",
    "        'RHMC1',\n",
    "        'RHMC2',\n",
    "        'RHMC3'],\n",
    "    \n",
    "    'L_hand':[\n",
    "        'LCAP',\n",
    "        'LHMC1',\n",
    "        'LHMC2',\n",
    "        'LHMC3'],\n",
    "\n",
    "    'R_fingers':[\n",
    "        'RTHUMB',\n",
    "        'RMIDDLE'],\n",
    "    \n",
    "    'L_fingers':[\n",
    "        'LTHUMB',\n",
    "        'LMIDDLE'],\n",
    "\n",
    "    'R_thigh':[\n",
    "        'RFLE',\n",
    "        'RFME',\n",
    "        'RTH1',\n",
    "        'RTH2',\n",
    "        'RTH3',\n",
    "        'RTH4'],\n",
    "    \n",
    "    'L_thigh':[\n",
    "        'LFLE',\n",
    "        'LFME',\n",
    "        'LTH1',\n",
    "        'LTH2',\n",
    "        'LTH3',\n",
    "        'LTH4'],\n",
    "\n",
    "    'R_calves':[\n",
    "        'RSK1',\n",
    "        'RSK2',\n",
    "        'RSK3',\n",
    "        'RSK4',\n",
    "        'RFAL',\n",
    "        'RTAM'],\n",
    "        \n",
    "    'L_calves':[\n",
    "        'LSK1',\n",
    "        'LSK2',\n",
    "        'LSK3',\n",
    "        'LSK4',\n",
    "        'LFAL',\n",
    "        'LTAM'],\n",
    "\n",
    "    'R_foot':[\n",
    "        'RFCC',\n",
    "        'RFMT5',\n",
    "        'RFMT2',\n",
    "        'RFMT1'],\n",
    "\n",
    "    'L_foot':[\n",
    "        'LFCC',\n",
    "        'LFMT5',\n",
    "        'LFMT2',\n",
    "        'LFMT1']\n",
    "    }"
   ]
  },
  {
   "cell_type": "code",
   "execution_count": 30,
   "metadata": {},
   "outputs": [
    {
     "data": {
      "text/plain": [
       "numpy.ndarray"
      ]
     },
     "execution_count": 30,
     "metadata": {},
     "output_type": "execute_result"
    }
   ],
   "source": [
    "type(coordinates_of_markers)"
   ]
  },
  {
   "cell_type": "code",
   "execution_count": 29,
   "metadata": {},
   "outputs": [
    {
     "ename": "SyntaxError",
     "evalue": "expected ':' (3775832973.py, line 1)",
     "output_type": "error",
     "traceback": [
      "\u001b[1;36m  Input \u001b[1;32mIn [29]\u001b[1;36m\u001b[0m\n\u001b[1;33m    def reorganize_data(coordinates_of_markers, name_of_markers)\u001b[0m\n\u001b[1;37m                                                                ^\u001b[0m\n\u001b[1;31mSyntaxError\u001b[0m\u001b[1;31m:\u001b[0m expected ':'\n"
     ]
    }
   ],
   "source": [
    "# def reorganize_data(coordinates_of_markers, name_of_markers):\n",
    "#     sequence = [\n",
    "#                 \"L_foot\",\n",
    "#                 \"L_calves\",\n",
    "#                 \"L_thigh\",\n",
    "\n",
    "                \n",
    "    ]"
   ]
  },
  {
   "cell_type": "code",
   "execution_count": null,
   "metadata": {},
   "outputs": [],
   "source": []
  }
 ],
 "metadata": {
  "kernelspec": {
   "display_name": "Python 3.10.4 ('dataProcess')",
   "language": "python",
   "name": "python3"
  },
  "language_info": {
   "codemirror_mode": {
    "name": "ipython",
    "version": 3
   },
   "file_extension": ".py",
   "mimetype": "text/x-python",
   "name": "python",
   "nbconvert_exporter": "python",
   "pygments_lexer": "ipython3",
   "version": "3.10.4"
  },
  "orig_nbformat": 4,
  "vscode": {
   "interpreter": {
    "hash": "e69e4e32af85ea8ade9ca84a159685afdc975766b03e58ded888fa95864e7a5e"
   }
  }
 },
 "nbformat": 4,
 "nbformat_minor": 2
}
